{
 "cells": [
  {
   "attachments": {},
   "cell_type": "markdown",
   "metadata": {},
   "source": [
    "Импортируем библиотеки"
   ]
  },
  {
   "cell_type": "code",
   "execution_count": 1,
   "metadata": {},
   "outputs": [],
   "source": [
    "import pandas as pd\n",
    "from sklearn.model_selection import train_test_split\n",
    "from sklearn.metrics import f1_score, precision_score, recall_score, roc_auc_score\n",
    "from catboost import CatBoostClassifier"
   ]
  },
  {
   "attachments": {},
   "cell_type": "markdown",
   "metadata": {},
   "source": [
    "Считываем данные"
   ]
  },
  {
   "cell_type": "code",
   "execution_count": 2,
   "metadata": {},
   "outputs": [],
   "source": [
    "X = pd.read_parquet(\"../../data/input_data/train_ai_comp_final_dp.parquet\")\n",
    "\n",
    "y = X[\"target\"]\n",
    "X.drop(columns = [\"sample_ml_new\", \"target\", \"id\"], inplace = True)"
   ]
  },
  {
   "cell_type": "code",
   "execution_count": 10,
   "metadata": {},
   "outputs": [
    {
     "name": "stdout",
     "output_type": "stream",
     "text": [
      "(519615, 1076)\n"
     ]
    },
    {
     "data": {
      "text/html": [
       "<div>\n",
       "<style scoped>\n",
       "    .dataframe tbody tr th:only-of-type {\n",
       "        vertical-align: middle;\n",
       "    }\n",
       "\n",
       "    .dataframe tbody tr th {\n",
       "        vertical-align: top;\n",
       "    }\n",
       "\n",
       "    .dataframe thead th {\n",
       "        text-align: right;\n",
       "    }\n",
       "</style>\n",
       "<table border=\"1\" class=\"dataframe\">\n",
       "  <thead>\n",
       "    <tr style=\"text-align: right;\">\n",
       "      <th></th>\n",
       "      <th>feature1</th>\n",
       "      <th>feature2</th>\n",
       "      <th>feature3</th>\n",
       "      <th>feature4</th>\n",
       "      <th>feature5</th>\n",
       "      <th>feature6</th>\n",
       "      <th>feature7</th>\n",
       "      <th>feature8</th>\n",
       "      <th>feature9</th>\n",
       "      <th>feature10</th>\n",
       "      <th>...</th>\n",
       "      <th>feature1067</th>\n",
       "      <th>feature1068</th>\n",
       "      <th>feature1069</th>\n",
       "      <th>feature1070</th>\n",
       "      <th>feature1071</th>\n",
       "      <th>feature1072</th>\n",
       "      <th>feature1073</th>\n",
       "      <th>feature1074</th>\n",
       "      <th>feature1075</th>\n",
       "      <th>feature1076</th>\n",
       "    </tr>\n",
       "  </thead>\n",
       "  <tbody>\n",
       "    <tr>\n",
       "      <th>693039</th>\n",
       "      <td>1761</td>\n",
       "      <td>1759</td>\n",
       "      <td>0</td>\n",
       "      <td>168</td>\n",
       "      <td>191</td>\n",
       "      <td>1</td>\n",
       "      <td>125</td>\n",
       "      <td>290</td>\n",
       "      <td>298</td>\n",
       "      <td>176</td>\n",
       "      <td>...</td>\n",
       "      <td>0</td>\n",
       "      <td>0</td>\n",
       "      <td>0</td>\n",
       "      <td>0</td>\n",
       "      <td>0</td>\n",
       "      <td>51714</td>\n",
       "      <td>0</td>\n",
       "      <td>0</td>\n",
       "      <td>0</td>\n",
       "      <td>0</td>\n",
       "    </tr>\n",
       "    <tr>\n",
       "      <th>693040</th>\n",
       "      <td>1761</td>\n",
       "      <td>1759</td>\n",
       "      <td>141</td>\n",
       "      <td>74</td>\n",
       "      <td>191</td>\n",
       "      <td>1</td>\n",
       "      <td>125</td>\n",
       "      <td>290</td>\n",
       "      <td>298</td>\n",
       "      <td>176</td>\n",
       "      <td>...</td>\n",
       "      <td>0</td>\n",
       "      <td>0</td>\n",
       "      <td>0</td>\n",
       "      <td>0</td>\n",
       "      <td>0</td>\n",
       "      <td>51714</td>\n",
       "      <td>0</td>\n",
       "      <td>0</td>\n",
       "      <td>0</td>\n",
       "      <td>0</td>\n",
       "    </tr>\n",
       "    <tr>\n",
       "      <th>693042</th>\n",
       "      <td>1761</td>\n",
       "      <td>1759</td>\n",
       "      <td>141</td>\n",
       "      <td>28</td>\n",
       "      <td>191</td>\n",
       "      <td>0</td>\n",
       "      <td>125</td>\n",
       "      <td>290</td>\n",
       "      <td>298</td>\n",
       "      <td>176</td>\n",
       "      <td>...</td>\n",
       "      <td>0</td>\n",
       "      <td>0</td>\n",
       "      <td>0</td>\n",
       "      <td>0</td>\n",
       "      <td>50250</td>\n",
       "      <td>51714</td>\n",
       "      <td>0</td>\n",
       "      <td>0</td>\n",
       "      <td>0</td>\n",
       "      <td>0</td>\n",
       "    </tr>\n",
       "  </tbody>\n",
       "</table>\n",
       "<p>3 rows × 1076 columns</p>\n",
       "</div>"
      ],
      "text/plain": [
       "        feature1  feature2  feature3  feature4  feature5  feature6  feature7  \\\n",
       "693039      1761      1759         0       168       191         1       125   \n",
       "693040      1761      1759       141        74       191         1       125   \n",
       "693042      1761      1759       141        28       191         0       125   \n",
       "\n",
       "        feature8  feature9  feature10  ...  feature1067  feature1068  \\\n",
       "693039       290       298        176  ...            0            0   \n",
       "693040       290       298        176  ...            0            0   \n",
       "693042       290       298        176  ...            0            0   \n",
       "\n",
       "        feature1069  feature1070  feature1071  feature1072  feature1073  \\\n",
       "693039            0            0            0        51714            0   \n",
       "693040            0            0            0        51714            0   \n",
       "693042            0            0        50250        51714            0   \n",
       "\n",
       "        feature1074  feature1075  feature1076  \n",
       "693039            0            0            0  \n",
       "693040            0            0            0  \n",
       "693042            0            0            0  \n",
       "\n",
       "[3 rows x 1076 columns]"
      ]
     },
     "execution_count": 10,
     "metadata": {},
     "output_type": "execute_result"
    }
   ],
   "source": [
    "print(X.shape)\n",
    "X.tail(3)"
   ]
  },
  {
   "cell_type": "code",
   "execution_count": 9,
   "metadata": {},
   "outputs": [
    {
     "data": {
      "text/plain": [
       "693039    0\n",
       "693040    0\n",
       "693042    1\n",
       "Name: target, dtype: int64"
      ]
     },
     "execution_count": 9,
     "metadata": {},
     "output_type": "execute_result"
    }
   ],
   "source": [
    "y.tail(3)"
   ]
  },
  {
   "attachments": {},
   "cell_type": "markdown",
   "metadata": {},
   "source": [
    "Разделяем данные на обучающую и тестовую выборки"
   ]
  },
  {
   "cell_type": "code",
   "execution_count": 11,
   "metadata": {},
   "outputs": [],
   "source": [
    "X_train, X_test, y_train, y_test = train_test_split(X, y, test_size=0.2, stratify = y, random_state=160_032_240)"
   ]
  },
  {
   "attachments": {},
   "cell_type": "markdown",
   "metadata": {},
   "source": [
    "Обучаем модель с помощью градиентного бустинга\n",
    "\n",
    "Вопросы на подумать: как учитывать категориальные фичи, как не переобучать модель и при чем тут валидационные данные, как отобрать фичи?"
   ]
  },
  {
   "cell_type": "code",
   "execution_count": 12,
   "metadata": {},
   "outputs": [
    {
     "data": {
      "text/plain": [
       "<catboost.core.CatBoostClassifier at 0x135badb50>"
      ]
     },
     "execution_count": 12,
     "metadata": {},
     "output_type": "execute_result"
    }
   ],
   "source": [
    "model = CatBoostClassifier()\n",
    "model.fit(X_train, y_train, verbose=False)"
   ]
  },
  {
   "attachments": {},
   "cell_type": "markdown",
   "metadata": {},
   "source": [
    "Смотрим на результаты обучения"
   ]
  },
  {
   "cell_type": "code",
   "execution_count": 13,
   "metadata": {},
   "outputs": [],
   "source": [
    "pred = model.predict_proba(X_test)\n",
    "\n",
    "pred = pred[:, 1]\n",
    "pred_binary = (pred >= 0.1)"
   ]
  },
  {
   "cell_type": "code",
   "execution_count": 14,
   "metadata": {},
   "outputs": [
    {
     "name": "stdout",
     "output_type": "stream",
     "text": [
      "F1_SCORE 0.19214790195263817\n",
      "PRECISION 0.15622361087654113\n",
      "RECALL 0.24952792015106556\n",
      "ROC_AUC 0.7497571983119106\n"
     ]
    }
   ],
   "source": [
    "print(\"F1_SCORE\", f1_score(y_test, pred_binary))\n",
    "print(\"PRECISION\", precision_score(y_test, pred_binary))\n",
    "print(\"RECALL\", recall_score(y_test, pred_binary))\n",
    "print(\"ROC_AUC\", roc_auc_score(y_test, pred))"
   ]
  },
  {
   "attachments": {},
   "cell_type": "markdown",
   "metadata": {},
   "source": [
    "Теперь сделаем сабмит\n",
    "\n",
    "Для этого берем тестовые данные"
   ]
  },
  {
   "cell_type": "code",
   "execution_count": 15,
   "metadata": {},
   "outputs": [],
   "source": [
    "X = pd.read_parquet(\"test_sber.parquet\")\n",
    "X.drop(columns = [\"sample_ml_new\", \"id\"], inplace = True)"
   ]
  },
  {
   "cell_type": "code",
   "execution_count": 19,
   "metadata": {},
   "outputs": [
    {
     "name": "stdout",
     "output_type": "stream",
     "text": [
      "(173433, 1076)\n"
     ]
    },
    {
     "data": {
      "text/html": [
       "<div>\n",
       "<style scoped>\n",
       "    .dataframe tbody tr th:only-of-type {\n",
       "        vertical-align: middle;\n",
       "    }\n",
       "\n",
       "    .dataframe tbody tr th {\n",
       "        vertical-align: top;\n",
       "    }\n",
       "\n",
       "    .dataframe thead th {\n",
       "        text-align: right;\n",
       "    }\n",
       "</style>\n",
       "<table border=\"1\" class=\"dataframe\">\n",
       "  <thead>\n",
       "    <tr style=\"text-align: right;\">\n",
       "      <th></th>\n",
       "      <th>feature1</th>\n",
       "      <th>feature2</th>\n",
       "      <th>feature3</th>\n",
       "      <th>feature4</th>\n",
       "      <th>feature5</th>\n",
       "      <th>feature6</th>\n",
       "      <th>feature7</th>\n",
       "      <th>feature8</th>\n",
       "      <th>feature9</th>\n",
       "      <th>feature10</th>\n",
       "      <th>...</th>\n",
       "      <th>feature1067</th>\n",
       "      <th>feature1068</th>\n",
       "      <th>feature1069</th>\n",
       "      <th>feature1070</th>\n",
       "      <th>feature1071</th>\n",
       "      <th>feature1072</th>\n",
       "      <th>feature1073</th>\n",
       "      <th>feature1074</th>\n",
       "      <th>feature1075</th>\n",
       "      <th>feature1076</th>\n",
       "    </tr>\n",
       "  </thead>\n",
       "  <tbody>\n",
       "    <tr>\n",
       "      <th>173430</th>\n",
       "      <td>1761</td>\n",
       "      <td>1759</td>\n",
       "      <td>141</td>\n",
       "      <td>74</td>\n",
       "      <td>191</td>\n",
       "      <td>1</td>\n",
       "      <td>125</td>\n",
       "      <td>290</td>\n",
       "      <td>298</td>\n",
       "      <td>176</td>\n",
       "      <td>...</td>\n",
       "      <td>0</td>\n",
       "      <td>0</td>\n",
       "      <td>0</td>\n",
       "      <td>0</td>\n",
       "      <td>0</td>\n",
       "      <td>51714</td>\n",
       "      <td>0</td>\n",
       "      <td>0</td>\n",
       "      <td>0</td>\n",
       "      <td>0</td>\n",
       "    </tr>\n",
       "    <tr>\n",
       "      <th>173431</th>\n",
       "      <td>1761</td>\n",
       "      <td>1759</td>\n",
       "      <td>141</td>\n",
       "      <td>107</td>\n",
       "      <td>191</td>\n",
       "      <td>1</td>\n",
       "      <td>125</td>\n",
       "      <td>290</td>\n",
       "      <td>298</td>\n",
       "      <td>176</td>\n",
       "      <td>...</td>\n",
       "      <td>0</td>\n",
       "      <td>0</td>\n",
       "      <td>0</td>\n",
       "      <td>0</td>\n",
       "      <td>0</td>\n",
       "      <td>51714</td>\n",
       "      <td>0</td>\n",
       "      <td>0</td>\n",
       "      <td>0</td>\n",
       "      <td>0</td>\n",
       "    </tr>\n",
       "    <tr>\n",
       "      <th>173432</th>\n",
       "      <td>1761</td>\n",
       "      <td>1759</td>\n",
       "      <td>141</td>\n",
       "      <td>23</td>\n",
       "      <td>191</td>\n",
       "      <td>0</td>\n",
       "      <td>125</td>\n",
       "      <td>290</td>\n",
       "      <td>298</td>\n",
       "      <td>176</td>\n",
       "      <td>...</td>\n",
       "      <td>0</td>\n",
       "      <td>0</td>\n",
       "      <td>0</td>\n",
       "      <td>0</td>\n",
       "      <td>50250</td>\n",
       "      <td>51714</td>\n",
       "      <td>0</td>\n",
       "      <td>0</td>\n",
       "      <td>0</td>\n",
       "      <td>0</td>\n",
       "    </tr>\n",
       "  </tbody>\n",
       "</table>\n",
       "<p>3 rows × 1076 columns</p>\n",
       "</div>"
      ],
      "text/plain": [
       "        feature1  feature2  feature3  feature4  feature5  feature6  feature7  \\\n",
       "173430      1761      1759       141        74       191         1       125   \n",
       "173431      1761      1759       141       107       191         1       125   \n",
       "173432      1761      1759       141        23       191         0       125   \n",
       "\n",
       "        feature8  feature9  feature10  ...  feature1067  feature1068  \\\n",
       "173430       290       298        176  ...            0            0   \n",
       "173431       290       298        176  ...            0            0   \n",
       "173432       290       298        176  ...            0            0   \n",
       "\n",
       "        feature1069  feature1070  feature1071  feature1072  feature1073  \\\n",
       "173430            0            0            0        51714            0   \n",
       "173431            0            0            0        51714            0   \n",
       "173432            0            0        50250        51714            0   \n",
       "\n",
       "        feature1074  feature1075  feature1076  \n",
       "173430            0            0            0  \n",
       "173431            0            0            0  \n",
       "173432            0            0            0  \n",
       "\n",
       "[3 rows x 1076 columns]"
      ]
     },
     "execution_count": 19,
     "metadata": {},
     "output_type": "execute_result"
    }
   ],
   "source": [
    "print(X.shape)\n",
    "X.tail(3)"
   ]
  },
  {
   "attachments": {},
   "cell_type": "markdown",
   "metadata": {},
   "source": [
    "Предсказываем ответы для тестовой выборки"
   ]
  },
  {
   "cell_type": "code",
   "execution_count": 22,
   "metadata": {},
   "outputs": [],
   "source": [
    "pred = model.predict_proba(X)\n",
    "\n",
    "pred = pred[:, 1]\n",
    "pred_binary = (pred >= 0.1).astype(int)"
   ]
  },
  {
   "cell_type": "code",
   "execution_count": 24,
   "metadata": {},
   "outputs": [
    {
     "data": {
      "text/html": [
       "<div>\n",
       "<style scoped>\n",
       "    .dataframe tbody tr th:only-of-type {\n",
       "        vertical-align: middle;\n",
       "    }\n",
       "\n",
       "    .dataframe tbody tr th {\n",
       "        vertical-align: top;\n",
       "    }\n",
       "\n",
       "    .dataframe thead th {\n",
       "        text-align: right;\n",
       "    }\n",
       "</style>\n",
       "<table border=\"1\" class=\"dataframe\">\n",
       "  <thead>\n",
       "    <tr style=\"text-align: right;\">\n",
       "      <th></th>\n",
       "      <th>id</th>\n",
       "      <th>target_bin</th>\n",
       "      <th>target_prob</th>\n",
       "    </tr>\n",
       "  </thead>\n",
       "  <tbody>\n",
       "    <tr>\n",
       "      <th>0</th>\n",
       "      <td>3</td>\n",
       "      <td>0</td>\n",
       "      <td>0.03</td>\n",
       "    </tr>\n",
       "    <tr>\n",
       "      <th>1</th>\n",
       "      <td>4</td>\n",
       "      <td>0</td>\n",
       "      <td>0.03</td>\n",
       "    </tr>\n",
       "    <tr>\n",
       "      <th>2</th>\n",
       "      <td>12</td>\n",
       "      <td>1</td>\n",
       "      <td>0.03</td>\n",
       "    </tr>\n",
       "  </tbody>\n",
       "</table>\n",
       "</div>"
      ],
      "text/plain": [
       "   id  target_bin  target_prob\n",
       "0   3           0         0.03\n",
       "1   4           0         0.03\n",
       "2  12           1         0.03"
      ]
     },
     "execution_count": 24,
     "metadata": {},
     "output_type": "execute_result"
    }
   ],
   "source": [
    "submission = pd.read_csv(\"../../data/input_data/sample_submission.csv\")\n",
    "submission.head(3)"
   ]
  },
  {
   "cell_type": "code",
   "execution_count": 27,
   "metadata": {},
   "outputs": [
    {
     "data": {
      "text/html": [
       "<div>\n",
       "<style scoped>\n",
       "    .dataframe tbody tr th:only-of-type {\n",
       "        vertical-align: middle;\n",
       "    }\n",
       "\n",
       "    .dataframe tbody tr th {\n",
       "        vertical-align: top;\n",
       "    }\n",
       "\n",
       "    .dataframe thead th {\n",
       "        text-align: right;\n",
       "    }\n",
       "</style>\n",
       "<table border=\"1\" class=\"dataframe\">\n",
       "  <thead>\n",
       "    <tr style=\"text-align: right;\">\n",
       "      <th></th>\n",
       "      <th>id</th>\n",
       "      <th>target_bin</th>\n",
       "      <th>target_prob</th>\n",
       "    </tr>\n",
       "  </thead>\n",
       "  <tbody>\n",
       "    <tr>\n",
       "      <th>0</th>\n",
       "      <td>3</td>\n",
       "      <td>0</td>\n",
       "      <td>0.011261</td>\n",
       "    </tr>\n",
       "    <tr>\n",
       "      <th>1</th>\n",
       "      <td>4</td>\n",
       "      <td>0</td>\n",
       "      <td>0.017531</td>\n",
       "    </tr>\n",
       "    <tr>\n",
       "      <th>2</th>\n",
       "      <td>12</td>\n",
       "      <td>0</td>\n",
       "      <td>0.030847</td>\n",
       "    </tr>\n",
       "  </tbody>\n",
       "</table>\n",
       "</div>"
      ],
      "text/plain": [
       "   id  target_bin  target_prob\n",
       "0   3           0     0.011261\n",
       "1   4           0     0.017531\n",
       "2  12           0     0.030847"
      ]
     },
     "execution_count": 27,
     "metadata": {},
     "output_type": "execute_result"
    }
   ],
   "source": [
    "submission[\"target_prob\"] = pred\n",
    "submission[\"target_bin\"] = pred_binary\n",
    "submission.head(3)"
   ]
  },
  {
   "cell_type": "code",
   "execution_count": 37,
   "metadata": {},
   "outputs": [],
   "source": [
    "submission.to_csv(\"../../data/output_data/baseline_submission.csv\", index=False)"
   ]
  },
  {
   "attachments": {},
   "cell_type": "markdown",
   "metadata": {},
   "source": [
    "---"
   ]
  }
 ],
 "metadata": {
  "kernelspec": {
   "display_name": "Python 3",
   "language": "python",
   "name": "python3"
  },
  "language_info": {
   "codemirror_mode": {
    "name": "ipython",
    "version": 3
   },
   "file_extension": ".py",
   "mimetype": "text/x-python",
   "name": "python",
   "nbconvert_exporter": "python",
   "pygments_lexer": "ipython3",
   "version": "3.9.6"
  },
  "orig_nbformat": 4
 },
 "nbformat": 4,
 "nbformat_minor": 2
}
